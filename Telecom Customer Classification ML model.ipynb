{
 "cells": [
  {
   "cell_type": "markdown",
   "id": "bd3e75a6",
   "metadata": {},
   "source": [
    "# Telecom Customer Classification ML model"
   ]
  },
  {
   "cell_type": "code",
   "execution_count": 1,
   "id": "0d413c49",
   "metadata": {},
   "outputs": [],
   "source": [
    "import pandas as pd\n",
    "import numpy as np\n",
    "import matplotlib.pyplot as plt\n",
    "import seaborn as sns\n",
    "import warnings\n",
    "warnings.filterwarnings('ignore')"
   ]
  },
  {
   "cell_type": "code",
   "execution_count": 3,
   "id": "6cda7aee",
   "metadata": {},
   "outputs": [],
   "source": [
    "X_train=pd.read_pickle(\"./X_train.pkl\")\n",
    "X_test=pd.read_pickle(\"./X_test.pkl\")\n",
    "y_train=pd.read_pickle(\"./y_train.pkl\")\n",
    "y_test=pd.read_pickle(\"./y_test.pkl\")\n",
    "\n",
    "X=pd.read_pickle(\"./X.pkl\")\n",
    "y=pd.read_pickle(\"./y.pkl\")"
   ]
  },
  {
   "cell_type": "code",
   "execution_count": 130,
   "id": "09a74444",
   "metadata": {},
   "outputs": [],
   "source": [
    "df_raw=pd.read_csv('Telecust1.csv')"
   ]
  },
  {
   "cell_type": "markdown",
   "id": "ad3c9110",
   "metadata": {},
   "source": [
    "## Standard Scalar"
   ]
  },
  {
   "cell_type": "code",
   "execution_count": 4,
   "id": "3914935e",
   "metadata": {},
   "outputs": [],
   "source": [
    "from sklearn.preprocessing import MinMaxScaler"
   ]
  },
  {
   "cell_type": "code",
   "execution_count": 5,
   "id": "b851e3ba",
   "metadata": {},
   "outputs": [],
   "source": [
    "sc=MinMaxScaler(feature_range=(0, 1))"
   ]
  },
  {
   "cell_type": "code",
   "execution_count": 6,
   "id": "0958ec8f",
   "metadata": {},
   "outputs": [],
   "source": [
    "X_train=sc.fit_transform(X_train)\n",
    "X_test=sc.transform(X_test)"
   ]
  },
  {
   "cell_type": "markdown",
   "id": "36799991",
   "metadata": {},
   "source": [
    "## DecisionTree"
   ]
  },
  {
   "cell_type": "code",
   "execution_count": 7,
   "id": "67fa40fa",
   "metadata": {},
   "outputs": [],
   "source": [
    "from sklearn.tree import DecisionTreeClassifier\n",
    "from sklearn.metrics import confusion_matrix,classification_report,roc_auc_score,accuracy_score,balanced_accuracy_score,f1_score"
   ]
  },
  {
   "cell_type": "code",
   "execution_count": 8,
   "id": "225b3224",
   "metadata": {},
   "outputs": [
    {
     "name": "stdout",
     "output_type": "stream",
     "text": [
      "confusion_matrix\n",
      "[[32 16 26 27]\n",
      " [ 4 14 13 18]\n",
      " [23 15 28 11]\n",
      " [15 23 20 20]]\n",
      "\n",
      "\n",
      "classification_report\n",
      "              precision    recall  f1-score   support\n",
      "\n",
      "           0       0.43      0.32      0.37       101\n",
      "           1       0.21      0.29      0.24        49\n",
      "           2       0.32      0.36      0.34        77\n",
      "           3       0.26      0.26      0.26        78\n",
      "\n",
      "    accuracy                           0.31       305\n",
      "   macro avg       0.31      0.31      0.30       305\n",
      "weighted avg       0.32      0.31      0.31       305\n",
      "\n",
      "\n",
      "\n",
      "Accuracy: 30.81967213114754\n",
      "\n",
      "\n",
      "Roc Value: 0.5375380963651493\n"
     ]
    }
   ],
   "source": [
    "M1=DecisionTreeClassifier()\n",
    "M1.fit(X_train,y_train)\n",
    "P1=M1.predict(X_test)\n",
    "print('confusion_matrix')\n",
    "print(confusion_matrix(y_test,P1))\n",
    "print('\\n')\n",
    "print('classification_report')\n",
    "print(classification_report(y_test,P1))\n",
    "print('\\n')\n",
    "print('Accuracy:',100*accuracy_score(y_test,P1))\n",
    "print('\\n')\n",
    "print('Roc Value:',roc_auc_score(y_test,M1.predict_proba(X_test),multi_class='ovr'))"
   ]
  },
  {
   "cell_type": "markdown",
   "id": "a214d19e",
   "metadata": {},
   "source": [
    "## RandomForest"
   ]
  },
  {
   "cell_type": "code",
   "execution_count": 9,
   "id": "d88de1ce",
   "metadata": {},
   "outputs": [],
   "source": [
    "from sklearn.ensemble import RandomForestClassifier"
   ]
  },
  {
   "cell_type": "code",
   "execution_count": 12,
   "id": "da889fb5",
   "metadata": {},
   "outputs": [
    {
     "name": "stdout",
     "output_type": "stream",
     "text": [
      "confusion_matrix\n",
      "[[38 13 30 20]\n",
      " [ 7 17 14 11]\n",
      " [23 20 29  5]\n",
      " [17 23 15 23]]\n",
      "\n",
      "\n",
      "classification_report\n",
      "              precision    recall  f1-score   support\n",
      "\n",
      "           0       0.45      0.38      0.41       101\n",
      "           1       0.23      0.35      0.28        49\n",
      "           2       0.33      0.38      0.35        77\n",
      "           3       0.39      0.29      0.34        78\n",
      "\n",
      "    accuracy                           0.35       305\n",
      "   macro avg       0.35      0.35      0.34       305\n",
      "weighted avg       0.37      0.35      0.35       305\n",
      "\n",
      "\n",
      "\n",
      "Accuracy: 35.08196721311476\n",
      "\n",
      "\n",
      "Roc Value: 0.6445311233805\n"
     ]
    }
   ],
   "source": [
    "M2=RandomForestClassifier()\n",
    "M2.fit(X_train,y_train)\n",
    "P2=M2.predict(X_test)\n",
    "print('confusion_matrix')\n",
    "print(confusion_matrix(y_test,P2))\n",
    "print('\\n')\n",
    "print('classification_report')\n",
    "print(classification_report(y_test,P2))\n",
    "print('\\n')\n",
    "print('Accuracy:',100*accuracy_score(y_test,P2))\n",
    "print('\\n')\n",
    "print('Roc Value:',roc_auc_score(y_test,M2.predict_proba(X_test),multi_class='ovr'))"
   ]
  },
  {
   "cell_type": "markdown",
   "id": "1e82c6c1",
   "metadata": {},
   "source": [
    "## KNN"
   ]
  },
  {
   "cell_type": "code",
   "execution_count": 16,
   "id": "55584a25",
   "metadata": {},
   "outputs": [],
   "source": [
    "from sklearn.neighbors import KNeighborsClassifier"
   ]
  },
  {
   "cell_type": "code",
   "execution_count": 17,
   "id": "3a6a84cf",
   "metadata": {},
   "outputs": [
    {
     "data": {
      "text/plain": [
       "Text(0, 0.5, 'Error Rate')"
      ]
     },
     "execution_count": 17,
     "metadata": {},
     "output_type": "execute_result"
    },
    {
     "data": {
      "image/png": "[encoded data removed]",
      "text/plain": [
       "<Figure size 720x720 with 1 Axes>"
      ]
     },
     "metadata": {
      "needs_background": "light"
     },
     "output_type": "display_data"
    }
   ],
   "source": [
    "error_Mat=[]\n",
    "for i in range (1,50):\n",
    "    knn=KNeighborsClassifier(n_neighbors=i)\n",
    "    knn.fit(X_train,y_train)\n",
    "    predict_i=knn.predict(X_test)\n",
    "    error_Mat.append(np.mean(predict_i != y_test))\n",
    "plt.figure(figsize=(10,10))\n",
    "plt.plot(range(1,50),error_Mat,color='blue', linestyle='dashed', marker='o',\n",
    "         markerfacecolor='red', markersize=10)\n",
    "plt.title('Error Rate vs. K Value')\n",
    "plt.xlabel('K')\n",
    "plt.ylabel('Error Rate')"
   ]
  },
  {
   "cell_type": "code",
   "execution_count": 18,
   "id": "7d38bccf",
   "metadata": {
    "scrolled": false
   },
   "outputs": [
    {
     "name": "stdout",
     "output_type": "stream",
     "text": [
      "confusion_matrix\n",
      "[[41 22 23 15]\n",
      " [13 21  4 11]\n",
      " [27 20 24  6]\n",
      " [29 19 11 19]]\n",
      "\n",
      "\n",
      "classification_report\n",
      "              precision    recall  f1-score   support\n",
      "\n",
      "           0       0.37      0.41      0.39       101\n",
      "           1       0.26      0.43      0.32        49\n",
      "           2       0.39      0.31      0.35        77\n",
      "           3       0.37      0.24      0.29        78\n",
      "\n",
      "    accuracy                           0.34       305\n",
      "   macro avg       0.35      0.35      0.34       305\n",
      "weighted avg       0.36      0.34      0.34       305\n",
      "\n",
      "\n",
      "\n",
      "Accuracy: 34.42622950819672\n",
      "\n",
      "\n",
      "Roc Value: 0.6093191006325605\n"
     ]
    }
   ],
   "source": [
    "M5=KNeighborsClassifier(n_neighbors=6)\n",
    "M5.fit(X_train,y_train)\n",
    "P5=M5.predict(X_test)\n",
    "print('confusion_matrix')\n",
    "print(confusion_matrix(y_test,P5))\n",
    "print('\\n')\n",
    "print('classification_report')\n",
    "print(classification_report(y_test,P5))\n",
    "print('\\n')\n",
    "print('Accuracy:',100*accuracy_score(y_test,P5))\n",
    "print('\\n')\n",
    "print('Roc Value:',roc_auc_score(y_test,M5.predict_proba(X_test),multi_class='ovr'))"
   ]
  },
  {
   "cell_type": "markdown",
   "id": "b855a827",
   "metadata": {},
   "source": [
    "## Naive_bayes"
   ]
  },
  {
   "cell_type": "code",
   "execution_count": 19,
   "id": "5d8fffd6",
   "metadata": {},
   "outputs": [],
   "source": [
    "from sklearn.naive_bayes import GaussianNB"
   ]
  },
  {
   "cell_type": "code",
   "execution_count": 20,
   "id": "2673959c",
   "metadata": {},
   "outputs": [
    {
     "name": "stdout",
     "output_type": "stream",
     "text": [
      "confusion_matrix\n",
      "[[54 14 22 11]\n",
      " [12 13 11 13]\n",
      " [27 13 30  7]\n",
      " [22 23  9 24]]\n",
      "\n",
      "\n",
      "classification_report\n",
      "              precision    recall  f1-score   support\n",
      "\n",
      "           0       0.47      0.53      0.50       101\n",
      "           1       0.21      0.27      0.23        49\n",
      "           2       0.42      0.39      0.40        77\n",
      "           3       0.44      0.31      0.36        78\n",
      "\n",
      "    accuracy                           0.40       305\n",
      "   macro avg       0.38      0.37      0.37       305\n",
      "weighted avg       0.41      0.40      0.40       305\n",
      "\n",
      "\n",
      "\n",
      "Accuracy: 39.67213114754099\n",
      "\n",
      "\n",
      "Roc Value: 0.6382535642175567\n"
     ]
    }
   ],
   "source": [
    "M6=GaussianNB()\n",
    "M6.fit(X_train,y_train)\n",
    "P6=M6.predict(X_test)\n",
    "print('confusion_matrix')\n",
    "print(confusion_matrix(y_test,P6))\n",
    "print('\\n')\n",
    "print('classification_report')\n",
    "print(classification_report(y_test,P6))\n",
    "print('\\n')\n",
    "print('Accuracy:',100*accuracy_score(y_test,P6))\n",
    "print('\\n')\n",
    "print('Roc Value:',roc_auc_score(y_test,M6.predict_proba(X_test),multi_class='ovr'))"
   ]
  },
  {
   "cell_type": "markdown",
   "id": "54deef7f",
   "metadata": {},
   "source": [
    "## GradientBoostingClassifier"
   ]
  },
  {
   "cell_type": "code",
   "execution_count": 21,
   "id": "35fb1846",
   "metadata": {},
   "outputs": [],
   "source": [
    "from sklearn.ensemble import GradientBoostingClassifier"
   ]
  },
  {
   "cell_type": "code",
   "execution_count": 23,
   "id": "09f25b9b",
   "metadata": {},
   "outputs": [
    {
     "name": "stdout",
     "output_type": "stream",
     "text": [
      "confusion_matrix\n",
      "[[35 14 32 20]\n",
      " [ 8 13 12 16]\n",
      " [20 18 31  8]\n",
      " [17 15 21 25]]\n",
      "\n",
      "\n",
      "classification_report\n",
      "              precision    recall  f1-score   support\n",
      "\n",
      "           0       0.44      0.35      0.39       101\n",
      "           1       0.22      0.27      0.24        49\n",
      "           2       0.32      0.40      0.36        77\n",
      "           3       0.36      0.32      0.34        78\n",
      "\n",
      "    accuracy                           0.34       305\n",
      "   macro avg       0.33      0.33      0.33       305\n",
      "weighted avg       0.35      0.34      0.34       305\n",
      "\n",
      "\n",
      "\n",
      "Accuracy: 34.0983606557377\n",
      "\n",
      "\n",
      "Roc Value: 0.6401053098109646\n"
     ]
    }
   ],
   "source": [
    "M7=GradientBoostingClassifier()\n",
    "M7.fit(X_train,y_train)\n",
    "P7=M7.predict(X_test)\n",
    "print('confusion_matrix')\n",
    "print(confusion_matrix(y_test,P7))\n",
    "print('\\n')\n",
    "print('classification_report')\n",
    "print(classification_report(y_test,P7))\n",
    "print('\\n')\n",
    "print('Accuracy:',100*accuracy_score(y_test,P7))\n",
    "print('\\n')\n",
    "print('Roc Value:',roc_auc_score(y_test,M7.predict_proba(X_test),multi_class='ovr'))"
   ]
  },
  {
   "cell_type": "markdown",
   "id": "b037588f",
   "metadata": {},
   "source": [
    "## HistGradientBoostingClassifier"
   ]
  },
  {
   "cell_type": "code",
   "execution_count": 24,
   "id": "98be56a4",
   "metadata": {},
   "outputs": [],
   "source": [
    "from sklearn.ensemble import HistGradientBoostingClassifier"
   ]
  },
  {
   "cell_type": "code",
   "execution_count": 26,
   "id": "7e27f182",
   "metadata": {},
   "outputs": [
    {
     "name": "stdout",
     "output_type": "stream",
     "text": [
      "confusion_matrix\n",
      "[[36 11 30 24]\n",
      " [ 4 14 11 20]\n",
      " [16 17 32 12]\n",
      " [22 20 17 19]]\n",
      "\n",
      "\n",
      "classification_report\n",
      "              precision    recall  f1-score   support\n",
      "\n",
      "           0       0.46      0.36      0.40       101\n",
      "           1       0.23      0.29      0.25        49\n",
      "           2       0.36      0.42      0.38        77\n",
      "           3       0.25      0.24      0.25        78\n",
      "\n",
      "    accuracy                           0.33       305\n",
      "   macro avg       0.32      0.33      0.32       305\n",
      "weighted avg       0.34      0.33      0.33       305\n",
      "\n",
      "\n",
      "\n",
      "Accuracy: 33.114754098360656\n",
      "\n",
      "\n",
      "Roc Value: 0.6312029876909542\n"
     ]
    }
   ],
   "source": [
    "M8=HistGradientBoostingClassifier()\n",
    "M8.fit(X_train,y_train)\n",
    "P8=M8.predict(X_test)\n",
    "print('confusion_matrix')\n",
    "print(confusion_matrix(y_test,P8))\n",
    "print('\\n')\n",
    "print('classification_report')\n",
    "print(classification_report(y_test,P8))\n",
    "print('\\n')\n",
    "print('Accuracy:',100*accuracy_score(y_test,P8))\n",
    "print('\\n')\n",
    "print('Roc Value:',roc_auc_score(y_test,M8.predict_proba(X_test),multi_class='ovr'))"
   ]
  },
  {
   "cell_type": "markdown",
   "id": "169d30d0",
   "metadata": {},
   "source": [
    "## CatBoostClassifier"
   ]
  },
  {
   "cell_type": "code",
   "execution_count": 27,
   "id": "e6f893f2",
   "metadata": {},
   "outputs": [],
   "source": [
    "from catboost import CatBoostClassifier"
   ]
  },
  {
   "cell_type": "code",
   "execution_count": 29,
   "id": "621a2777",
   "metadata": {},
   "outputs": [
    {
     "name": "stdout",
     "output_type": "stream",
     "text": [
      "confusion_matrix\n",
      "[[36 15 30 20]\n",
      " [11 13 11 14]\n",
      " [19 20 30  8]\n",
      " [19 20 17 22]]\n",
      "\n",
      "\n",
      "classification_report\n",
      "              precision    recall  f1-score   support\n",
      "\n",
      "           0       0.42      0.36      0.39       101\n",
      "           1       0.19      0.27      0.22        49\n",
      "           2       0.34      0.39      0.36        77\n",
      "           3       0.34      0.28      0.31        78\n",
      "\n",
      "    accuracy                           0.33       305\n",
      "   macro avg       0.32      0.32      0.32       305\n",
      "weighted avg       0.34      0.33      0.33       305\n",
      "\n",
      "\n",
      "\n",
      "Accuracy: 33.114754098360656\n",
      "\n",
      "\n",
      "Roc Value: 0.6364657837529137\n"
     ]
    }
   ],
   "source": [
    "M9=CatBoostClassifier(verbose=0)\n",
    "M9.fit(X_train,y_train)\n",
    "P9=M9.predict(X_test)\n",
    "print('confusion_matrix')\n",
    "print(confusion_matrix(y_test,P9))\n",
    "print('\\n')\n",
    "print('classification_report')\n",
    "print(classification_report(y_test,P9))\n",
    "print('\\n')\n",
    "print('Accuracy:',100*accuracy_score(y_test,P9))\n",
    "print('\\n')\n",
    "print('Roc Value:',roc_auc_score(y_test,M9.predict_proba(X_test),multi_class='ovr'))"
   ]
  },
  {
   "cell_type": "markdown",
   "id": "4027f89f",
   "metadata": {},
   "source": [
    "## XGBClassifier"
   ]
  },
  {
   "cell_type": "code",
   "execution_count": 30,
   "id": "4eb38f66",
   "metadata": {},
   "outputs": [],
   "source": [
    "from xgboost import XGBClassifier"
   ]
  },
  {
   "cell_type": "code",
   "execution_count": 31,
   "id": "415256f0",
   "metadata": {},
   "outputs": [
    {
     "name": "stdout",
     "output_type": "stream",
     "text": [
      "confusion_matrix\n",
      "[[32 12 30 27]\n",
      " [ 9 13 13 14]\n",
      " [15 18 32 12]\n",
      " [12 19 24 23]]\n",
      "\n",
      "\n",
      "classification_report\n",
      "              precision    recall  f1-score   support\n",
      "\n",
      "           0       0.47      0.32      0.38       101\n",
      "           1       0.21      0.27      0.23        49\n",
      "           2       0.32      0.42      0.36        77\n",
      "           3       0.30      0.29      0.30        78\n",
      "\n",
      "    accuracy                           0.33       305\n",
      "   macro avg       0.33      0.32      0.32       305\n",
      "weighted avg       0.35      0.33      0.33       305\n",
      "\n",
      "\n",
      "\n",
      "Accuracy: 32.78688524590164\n",
      "\n",
      "\n",
      "Roc Value: 0.6328450550064542\n"
     ]
    }
   ],
   "source": [
    "M10=XGBClassifier()\n",
    "M10.fit(X_train,y_train)\n",
    "P10=M10.predict(X_test)\n",
    "print('confusion_matrix')\n",
    "print(confusion_matrix(y_test,P10))\n",
    "print('\\n')\n",
    "print('classification_report')\n",
    "print(classification_report(y_test,P10))\n",
    "print('\\n')\n",
    "print('Accuracy:',100*accuracy_score(y_test,P10))\n",
    "print('\\n')\n",
    "print('Roc Value:',roc_auc_score(y_test,M10.predict_proba(X_test),multi_class='ovr'))"
   ]
  },
  {
   "cell_type": "markdown",
   "id": "9018ae7c",
   "metadata": {},
   "source": [
    "## LGBMClassifier"
   ]
  },
  {
   "cell_type": "code",
   "execution_count": 34,
   "id": "5928bd05",
   "metadata": {},
   "outputs": [],
   "source": [
    "from lightgbm import LGBMClassifier"
   ]
  },
  {
   "cell_type": "code",
   "execution_count": 35,
   "id": "730bdeb4",
   "metadata": {},
   "outputs": [
    {
     "name": "stdout",
     "output_type": "stream",
     "text": [
      "confusion_matrix\n",
      "[[41 10 23 27]\n",
      " [ 3 16 10 20]\n",
      " [19 16 28 14]\n",
      " [19 20 17 22]]\n",
      "\n",
      "\n",
      "classification_report\n",
      "              precision    recall  f1-score   support\n",
      "\n",
      "           0       0.50      0.41      0.45       101\n",
      "           1       0.26      0.33      0.29        49\n",
      "           2       0.36      0.36      0.36        77\n",
      "           3       0.27      0.28      0.27        78\n",
      "\n",
      "    accuracy                           0.35       305\n",
      "   macro avg       0.35      0.34      0.34       305\n",
      "weighted avg       0.37      0.35      0.36       305\n",
      "\n",
      "\n",
      "\n",
      "Accuracy: 35.08196721311476\n",
      "\n",
      "\n",
      "Roc Value: 0.6304408475805683\n"
     ]
    }
   ],
   "source": [
    "M11=LGBMClassifier()\n",
    "M11.fit(X_train,y_train)\n",
    "P11=M11.predict(X_test)\n",
    "print('confusion_matrix')\n",
    "print(confusion_matrix(y_test,P11))\n",
    "print('\\n')\n",
    "print('classification_report')\n",
    "print(classification_report(y_test,P11))\n",
    "print('\\n')\n",
    "print('Accuracy:',100*accuracy_score(y_test,P11))\n",
    "print('\\n')\n",
    "print('Roc Value:',roc_auc_score(y_test,M11.predict_proba(X_test),multi_class='ovr'))"
   ]
  },
  {
   "cell_type": "markdown",
   "id": "4028607f",
   "metadata": {},
   "source": [
    "## Neural_network"
   ]
  },
  {
   "cell_type": "code",
   "execution_count": 36,
   "id": "f0dabaaa",
   "metadata": {},
   "outputs": [],
   "source": [
    "from sklearn.neural_network import MLPClassifier"
   ]
  },
  {
   "cell_type": "code",
   "execution_count": 51,
   "id": "8f7adb17",
   "metadata": {},
   "outputs": [
    {
     "name": "stdout",
     "output_type": "stream",
     "text": [
      "confusion_matrix\n",
      "[[43 14 31 13]\n",
      " [10 17 14  8]\n",
      " [23 14 36  4]\n",
      " [17 25 18 18]]\n",
      "\n",
      "\n",
      "classification_report\n",
      "              precision    recall  f1-score   support\n",
      "\n",
      "           0       0.46      0.43      0.44       101\n",
      "           1       0.24      0.35      0.29        49\n",
      "           2       0.36      0.47      0.41        77\n",
      "           3       0.42      0.23      0.30        78\n",
      "\n",
      "    accuracy                           0.37       305\n",
      "   macro avg       0.37      0.37      0.36       305\n",
      "weighted avg       0.39      0.37      0.37       305\n",
      "\n",
      "\n",
      "\n",
      "Accuracy: 37.37704918032787\n",
      "\n",
      "\n",
      "Roc Value: 0.6630240941906272\n"
     ]
    }
   ],
   "source": [
    "M12=MLPClassifier(hidden_layer_sizes=(400,))\n",
    "M12.fit(X_train,y_train)\n",
    "P12=M12.predict(X_test)\n",
    "print('confusion_matrix')\n",
    "print(confusion_matrix(y_test,P12))\n",
    "print('\\n')\n",
    "print('classification_report')\n",
    "print(classification_report(y_test,P12))\n",
    "print('\\n')\n",
    "print('Accuracy:',100*accuracy_score(y_test,P12))\n",
    "print('\\n')\n",
    "print('Roc Value:',roc_auc_score(y_test,M12.predict_proba(X_test),multi_class='ovr'))"
   ]
  },
  {
   "cell_type": "markdown",
   "id": "3b633ff7",
   "metadata": {},
   "source": [
    "## BaggingClassifier"
   ]
  },
  {
   "cell_type": "code",
   "execution_count": 52,
   "id": "e3427410",
   "metadata": {},
   "outputs": [],
   "source": [
    "from sklearn.ensemble import BaggingClassifier"
   ]
  },
  {
   "cell_type": "code",
   "execution_count": 55,
   "id": "5bce6e7c",
   "metadata": {},
   "outputs": [
    {
     "name": "stdout",
     "output_type": "stream",
     "text": [
      "confusion_matrix\n",
      "[[39 14 23 25]\n",
      " [ 5 11 15 18]\n",
      " [17 14 33 13]\n",
      " [16 21 17 24]]\n",
      "\n",
      "\n",
      "classification_report\n",
      "              precision    recall  f1-score   support\n",
      "\n",
      "           0       0.51      0.39      0.44       101\n",
      "           1       0.18      0.22      0.20        49\n",
      "           2       0.38      0.43      0.40        77\n",
      "           3       0.30      0.31      0.30        78\n",
      "\n",
      "    accuracy                           0.35       305\n",
      "   macro avg       0.34      0.34      0.34       305\n",
      "weighted avg       0.37      0.35      0.36       305\n",
      "\n",
      "\n",
      "\n",
      "Accuracy: 35.08196721311476\n",
      "\n",
      "\n",
      "Roc Value: 0.645404472998348\n"
     ]
    }
   ],
   "source": [
    "M13=BaggingClassifier(base_estimator=LGBMClassifier())\n",
    "M13.fit(X_train,y_train)\n",
    "P13=M13.predict(X_test)\n",
    "print('confusion_matrix')\n",
    "print(confusion_matrix(y_test,P13))\n",
    "print('\\n')\n",
    "print('classification_report')\n",
    "print(classification_report(y_test,P13))\n",
    "print('\\n')\n",
    "print('Accuracy:',100*accuracy_score(y_test,P13))\n",
    "print('\\n')\n",
    "print('Roc Value:',roc_auc_score(y_test,M13.predict_proba(X_test),multi_class='ovr'))"
   ]
  },
  {
   "cell_type": "markdown",
   "id": "e17e26e4",
   "metadata": {},
   "source": [
    "## CalibratedClassifierCV"
   ]
  },
  {
   "cell_type": "code",
   "execution_count": 64,
   "id": "57d390dd",
   "metadata": {},
   "outputs": [
    {
     "name": "stdout",
     "output_type": "stream",
     "text": [
      "confusion_matrix\n",
      "[[49 14 24 14]\n",
      " [11 11 13 14]\n",
      " [27 13 30  7]\n",
      " [17 24 10 27]]\n",
      "\n",
      "\n",
      "classification_report\n",
      "              precision    recall  f1-score   support\n",
      "\n",
      "           0       0.47      0.49      0.48       101\n",
      "           1       0.18      0.22      0.20        49\n",
      "           2       0.39      0.39      0.39        77\n",
      "           3       0.44      0.35      0.39        78\n",
      "\n",
      "    accuracy                           0.38       305\n",
      "   macro avg       0.37      0.36      0.36       305\n",
      "weighted avg       0.39      0.38      0.39       305\n",
      "\n",
      "\n",
      "\n",
      "Accuracy: 38.36065573770492\n",
      "\n",
      "\n",
      "Roc Value: 0.6409987737637797\n"
     ]
    }
   ],
   "source": [
    "from sklearn.calibration import CalibratedClassifierCV\n",
    "M18=CalibratedClassifierCV(GaussianNB(), cv=2)\n",
    "M18.fit(X_train,y_train)\n",
    "P18=M18.predict(X_test)\n",
    "print('confusion_matrix')\n",
    "print(confusion_matrix(y_test,P18))\n",
    "print('\\n')\n",
    "print('classification_report')\n",
    "print(classification_report(y_test,P18))\n",
    "print('\\n')\n",
    "print('Accuracy:',100*accuracy_score(y_test,P18))\n",
    "print('\\n')\n",
    "print('Roc Value:',roc_auc_score(y_test,M18.predict_proba(X_test),multi_class='ovr'))"
   ]
  },
  {
   "cell_type": "markdown",
   "id": "b111aa29",
   "metadata": {},
   "source": [
    "## ExtraTreesClassifier"
   ]
  },
  {
   "cell_type": "code",
   "execution_count": 70,
   "id": "5aed5d21",
   "metadata": {},
   "outputs": [],
   "source": [
    "from sklearn.ensemble import ExtraTreesClassifier"
   ]
  },
  {
   "cell_type": "code",
   "execution_count": 71,
   "id": "1db55faa",
   "metadata": {},
   "outputs": [
    {
     "name": "stdout",
     "output_type": "stream",
     "text": [
      "confusion_matrix\n",
      "[[38 16 27 20]\n",
      " [ 8 13 14 14]\n",
      " [23 15 27 12]\n",
      " [18 23 16 21]]\n",
      "\n",
      "\n",
      "classification_report\n",
      "              precision    recall  f1-score   support\n",
      "\n",
      "           0       0.44      0.38      0.40       101\n",
      "           1       0.19      0.27      0.22        49\n",
      "           2       0.32      0.35      0.34        77\n",
      "           3       0.31      0.27      0.29        78\n",
      "\n",
      "    accuracy                           0.32       305\n",
      "   macro avg       0.32      0.32      0.31       305\n",
      "weighted avg       0.34      0.32      0.33       305\n",
      "\n",
      "\n",
      "\n",
      "Accuracy: 32.459016393442624\n",
      "\n",
      "\n",
      "Roc Value: 0.6310356142757428\n"
     ]
    }
   ],
   "source": [
    "M23=ExtraTreesClassifier()\n",
    "M23.fit(X_train,y_train)\n",
    "P23=M23.predict(X_test)\n",
    "print('confusion_matrix')\n",
    "print(confusion_matrix(y_test,P23))\n",
    "print('\\n')\n",
    "print('classification_report')\n",
    "print(classification_report(y_test,P23))\n",
    "print('\\n')\n",
    "print('Accuracy:',100*accuracy_score(y_test,P23))\n",
    "print('\\n')\n",
    "print('Roc Value:',roc_auc_score(y_test,M23.predict_proba(X_test),multi_class='ovr'))"
   ]
  },
  {
   "cell_type": "markdown",
   "id": "d6c9eeb7",
   "metadata": {},
   "source": [
    "## BernoulliNB"
   ]
  },
  {
   "cell_type": "code",
   "execution_count": 72,
   "id": "fdcd7711",
   "metadata": {},
   "outputs": [],
   "source": [
    "from sklearn.naive_bayes import BernoulliNB"
   ]
  },
  {
   "cell_type": "code",
   "execution_count": 73,
   "id": "c992aefe",
   "metadata": {},
   "outputs": [
    {
     "name": "stdout",
     "output_type": "stream",
     "text": [
      "confusion_matrix\n",
      "[[ 7 51 26 17]\n",
      " [ 1 16  8 24]\n",
      " [ 5 21 21 30]\n",
      " [ 1 33  4 40]]\n",
      "\n",
      "\n",
      "classification_report\n",
      "              precision    recall  f1-score   support\n",
      "\n",
      "           0       0.50      0.07      0.12       101\n",
      "           1       0.13      0.33      0.19        49\n",
      "           2       0.36      0.27      0.31        77\n",
      "           3       0.36      0.51      0.42        78\n",
      "\n",
      "    accuracy                           0.28       305\n",
      "   macro avg       0.34      0.30      0.26       305\n",
      "weighted avg       0.37      0.28      0.26       305\n",
      "\n",
      "\n",
      "\n",
      "Accuracy: 27.54098360655738\n",
      "\n",
      "\n",
      "Roc Value: 0.6192477891041214\n"
     ]
    }
   ],
   "source": [
    "M24=BernoulliNB()\n",
    "M24.fit(X_train,y_train)\n",
    "P24=M24.predict(X_test)\n",
    "print('confusion_matrix')\n",
    "print(confusion_matrix(y_test,P24))\n",
    "print('\\n')\n",
    "print('classification_report')\n",
    "print(classification_report(y_test,P24))\n",
    "print('\\n')\n",
    "print('Accuracy:',100*accuracy_score(y_test,P24))\n",
    "print('\\n')\n",
    "print('Roc Value:',roc_auc_score(y_test,M24.predict_proba(X_test),multi_class='ovr'))"
   ]
  },
  {
   "cell_type": "markdown",
   "id": "f2f2bb2f",
   "metadata": {},
   "source": [
    "## LinearDiscriminantAnalysis "
   ]
  },
  {
   "cell_type": "code",
   "execution_count": 74,
   "id": "c0f13f1a",
   "metadata": {},
   "outputs": [],
   "source": [
    "from sklearn.discriminant_analysis import LinearDiscriminantAnalysis"
   ]
  },
  {
   "cell_type": "code",
   "execution_count": 75,
   "id": "b88e2b29",
   "metadata": {},
   "outputs": [
    {
     "name": "stdout",
     "output_type": "stream",
     "text": [
      "confusion_matrix\n",
      "[[42 12 28 19]\n",
      " [ 7 14 14 14]\n",
      " [23 14 34  6]\n",
      " [17 18 15 28]]\n",
      "\n",
      "\n",
      "classification_report\n",
      "              precision    recall  f1-score   support\n",
      "\n",
      "           0       0.47      0.42      0.44       101\n",
      "           1       0.24      0.29      0.26        49\n",
      "           2       0.37      0.44      0.40        77\n",
      "           3       0.42      0.36      0.39        78\n",
      "\n",
      "    accuracy                           0.39       305\n",
      "   macro avg       0.38      0.38      0.37       305\n",
      "weighted avg       0.40      0.39      0.39       305\n",
      "\n",
      "\n",
      "\n",
      "Accuracy: 38.68852459016394\n",
      "\n",
      "\n",
      "Roc Value: 0.6708354254329794\n"
     ]
    }
   ],
   "source": [
    "M25=LinearDiscriminantAnalysis()\n",
    "M25.fit(X_train,y_train)\n",
    "P25=M25.predict(X_test)\n",
    "print('confusion_matrix')\n",
    "print(confusion_matrix(y_test,P25))\n",
    "print('\\n')\n",
    "print('classification_report')\n",
    "print(classification_report(y_test,P25))\n",
    "print('\\n')\n",
    "print('Accuracy:',100*accuracy_score(y_test,P25))\n",
    "print('\\n')\n",
    "print('Roc Value:',roc_auc_score(y_test,M25.predict_proba(X_test),multi_class='ovr'))"
   ]
  },
  {
   "cell_type": "markdown",
   "id": "991fc543",
   "metadata": {},
   "source": [
    "## DummyClassifier"
   ]
  },
  {
   "cell_type": "code",
   "execution_count": 78,
   "id": "5615473b",
   "metadata": {},
   "outputs": [
    {
     "name": "stdout",
     "output_type": "stream",
     "text": [
      "confusion_matrix\n",
      "[[  0   0 101   0]\n",
      " [  0   0  49   0]\n",
      " [  0   0  77   0]\n",
      " [  0   0  78   0]]\n",
      "\n",
      "\n",
      "classification_report\n",
      "              precision    recall  f1-score   support\n",
      "\n",
      "           0       0.00      0.00      0.00       101\n",
      "           1       0.00      0.00      0.00        49\n",
      "           2       0.25      1.00      0.40        77\n",
      "           3       0.00      0.00      0.00        78\n",
      "\n",
      "    accuracy                           0.25       305\n",
      "   macro avg       0.06      0.25      0.10       305\n",
      "weighted avg       0.06      0.25      0.10       305\n",
      "\n",
      "\n",
      "\n",
      "Accuracy: 25.245901639344265\n",
      "\n",
      "\n",
      "Roc Value: 0.5\n"
     ]
    }
   ],
   "source": [
    "from sklearn.dummy import DummyClassifier\n",
    "M28=DummyClassifier()\n",
    "M28.fit(X_train,y_train)\n",
    "P28=M28.predict(X_test)\n",
    "print('confusion_matrix')\n",
    "print(confusion_matrix(y_test,P28))\n",
    "print('\\n')\n",
    "print('classification_report')\n",
    "print(classification_report(y_test,P28))\n",
    "print('\\n')\n",
    "print('Accuracy:',100*accuracy_score(y_test,P28))\n",
    "print('\\n')\n",
    "print('Roc Value:',roc_auc_score(y_test,M28.predict_proba(X_test),multi_class='ovr'))"
   ]
  },
  {
   "cell_type": "code",
   "execution_count": 84,
   "id": "e97e302b",
   "metadata": {},
   "outputs": [],
   "source": [
    "Name=['Random Forest Classifier','Decision Tree','Naive Bayes classifier','KNN', \n",
    "      'GBBoosting','Histogram Boosting Classifier','XGB Boosting','Light GBM',\n",
    "      'CAT Boosting','Neural_Network','Bagging_classifier','CalibratedClassifierCV',\n",
    "      'ExtraTreesClassifier','BernoulliNB','LinearDiscriminantAnalysis','DummyClassifier']\n",
    "clfs= [RandomForestClassifier(),DecisionTreeClassifier(),GaussianNB(),KNeighborsClassifier(n_neighbors=5),\n",
    "       GradientBoostingClassifier(n_estimators=100, learning_rate=1.0, max_depth=1),\n",
    "       HistGradientBoostingClassifier(),XGBClassifier(),LGBMClassifier(),MLPClassifier(hidden_layer_sizes=(500,)),\n",
    "        CatBoostClassifier(verbose=0),BaggingClassifier(base_estimator=LGBMClassifier()),CalibratedClassifierCV(GaussianNB(), cv=2),\n",
    "        ExtraTreesClassifier(),BernoulliNB(),LinearDiscriminantAnalysis(),DummyClassifier()]"
   ]
  },
  {
   "cell_type": "code",
   "execution_count": 85,
   "id": "fa75b988",
   "metadata": {},
   "outputs": [],
   "source": [
    "Roc_score=[]\n",
    "Accuracy_score=[]\n",
    "Balenced_accuracy=[]\n",
    "Confusion_metrix=[]\n",
    "Classification_Report=[]\n",
    "\n",
    "for i in clfs:\n",
    "    i.fit(X_train,y_train)\n",
    "    \n",
    "    Roc_value=roc_auc_score(y_test,i.predict_proba(X_test),multi_class='ovr')\n",
    "    acc_value=100*accuracy_score(y_test,i.predict(X_test))\n",
    "    Bal_acc_value=balanced_accuracy_score(y_test,i.predict(X_test))\n",
    "    Confusion_metrix_value=confusion_matrix(y_test,i.predict(X_test))\n",
    "    Classification_Report_value=classification_report(y_test,i.predict(X_test))\n",
    "    \n",
    "    Roc_score.append(Roc_value)\n",
    "    Accuracy_score.append(acc_value)\n",
    "    Balenced_accuracy.append(Bal_acc_value)\n",
    "    Confusion_metrix.append(Confusion_metrix_value)\n",
    "    Classification_Report.append(Classification_Report_value)"
   ]
  },
  {
   "cell_type": "code",
   "execution_count": 83,
   "id": "4b253db4",
   "metadata": {},
   "outputs": [
    {
     "name": "stdout",
     "output_type": "stream",
     "text": [
      "                                   AROC   Accuracy  Bal Accu\n",
      "LinearDiscriminantAnalysis     0.670835  38.688525  0.375522\n",
      "CAT Boosting                   0.667724  39.016393  0.381938\n",
      "Random Forest Classifier       0.644046  34.426230  0.333377\n",
      "CalibratedClassifierCV         0.640999  38.360656  0.361351\n",
      "Naive Bayes classifier         0.638254  39.672131  0.374316\n",
      "Neural_Network                 0.636466  33.114754  0.323351\n",
      "ExtraTreesClassifier           0.636443  33.770492  0.330887\n",
      "Bagging_classifier             0.636105  33.114754  0.318139\n",
      "XGB Boosting                   0.632845  32.786885  0.323149\n",
      "Histogram Boosting Classifier  0.631203  33.114754  0.325331\n",
      "Light GBM                      0.630441  35.081967  0.344540\n",
      "GBBoosting                     0.628353  34.754098  0.335290\n",
      "BernoulliNB                    0.619248  27.540984  0.295346\n",
      "KNN                            0.591452  33.442623  0.341253\n",
      "Decision Tree                  0.542222  32.131148  0.311463\n",
      "DummyClassifier                0.500000  25.245902  0.250000\n"
     ]
    }
   ],
   "source": [
    "dict={'AROC':Roc_score ,'Accuracy':Accuracy_score,'Bal Accu':Balenced_accuracy}\n",
    "score = pd.DataFrame(dict, index=Name)\n",
    "score=score.sort_values(by='AROC',ascending=False)\n",
    "print(score)"
   ]
  },
  {
   "cell_type": "code",
   "execution_count": 86,
   "id": "23194aac",
   "metadata": {
    "scrolled": false
   },
   "outputs": [
    {
     "data": {
      "image/png": "[encoded data removed]",
      "text/plain": [
       "<Figure size 432x288 with 2 Axes>"
      ]
     },
     "metadata": {
      "needs_background": "light"
     },
     "output_type": "display_data"
    },
    {
     "data": {
      "image/png": "[encoded data removed]",
      "text/plain": [
       "<Figure size 432x288 with 2 Axes>"
      ]
     },
     "metadata": {
      "needs_background": "light"
     },
     "output_type": "display_data"
    },
    {
     "data": {
      "image/png": "[encoded data removed]",
      "text/plain": [
       "<Figure size 432x288 with 2 Axes>"
      ]
     },
     "metadata": {
      "needs_background": "light"
     },
     "output_type": "display_data"
    },
    {
     "data": {
      "image/png": "[encoded data removed]",
      "text/plain": [
       "<Figure size 432x288 with 2 Axes>"
      ]
     },
     "metadata": {
      "needs_background": "light"
     },
     "output_type": "display_data"
    },
    {
     "data": {
      "image/png": "[encoded data removed]",
      "text/plain": [
       "<Figure size 432x288 with 2 Axes>"
      ]
     },
     "metadata": {
      "needs_background": "light"
     },
     "output_type": "display_data"
    },
    {
     "data": {
      "image/png": "[encoded data removed]",
      "text/plain": [
       "<Figure size 432x288 with 2 Axes>"
      ]
     },
     "metadata": {
      "needs_background": "light"
     },
     "output_type": "display_data"
    },
    {
     "data": {
      "image/png": "[encoded data removed]",
      "text/plain": [
       "<Figure size 432x288 with 2 Axes>"
      ]
     },
     "metadata": {
      "needs_background": "light"
     },
     "output_type": "display_data"
    },
    {
     "data": {
      "image/png": "[encoded data removed]",
      "text/plain": [
       "<Figure size 432x288 with 2 Axes>"
      ]
     },
     "metadata": {
      "needs_background": "light"
     },
     "output_type": "display_data"
    },
    {
     "data": {
      "image/png": "[encoded data removed]",
      "text/plain": [
       "<Figure size 432x288 with 2 Axes>"
      ]
     },
     "metadata": {
      "needs_background": "light"
     },
     "output_type": "display_data"
    },
    {
     "data": {
      "image/png": "[encoded data removed]",
      "text/plain": [
       "<Figure size 432x288 with 2 Axes>"
      ]
     },
     "metadata": {
      "needs_background": "light"
     },
     "output_type": "display_data"
    },
    {
     "data": {
      "image/png": "[encoded data removed]",
      "text/plain": [
       "<Figure size 432x288 with 2 Axes>"
      ]
     },
     "metadata": {
      "needs_background": "light"
     },
     "output_type": "display_data"
    },
    {
     "data": {
      "image/png": "[encoded data removed]",
      "text/plain": [
       "<Figure size 432x288 with 2 Axes>"
      ]
     },
     "metadata": {
      "needs_background": "light"
     },
     "output_type": "display_data"
    },
    {
     "data": {
      "image/png": "[encoded data removed]",
      "text/plain": [
       "<Figure size 432x288 with 2 Axes>"
      ]
     },
     "metadata": {
      "needs_background": "light"
     },
     "output_type": "display_data"
    },
    {
     "data": {
      "image/png": "[encoded data removed]",
      "text/plain": [
       "<Figure size 432x288 with 2 Axes>"
      ]
     },
     "metadata": {
      "needs_background": "light"
     },
     "output_type": "display_data"
    },
    {
     "data": {
      "image/png": "[encoded data removed]",
      "text/plain": [
       "<Figure size 432x288 with 2 Axes>"
      ]
     },
     "metadata": {
      "needs_background": "light"
     },
     "output_type": "display_data"
    },
    {
     "data": {
      "image/png": "[encoded data removed]",
      "text/plain": [
       "<Figure size 432x288 with 2 Axes>"
      ]
     },
     "metadata": {
      "needs_background": "light"
     },
     "output_type": "display_data"
    }
   ],
   "source": [
    "for i in range (len(Confusion_metrix)):\n",
    "    ax = plt.axes()\n",
    "    ax.set_title(Name[i])\n",
    "    sns.heatmap(Confusion_metrix[i],annot=True,cmap=\"YlGnBu\",ax=ax)\n",
    "    ax.set_xlabel('Predicted Values')\n",
    "    ax.set_ylabel('Actual Values')\n",
    "    plt.show()"
   ]
  },
  {
   "cell_type": "markdown",
   "id": "297aa50a",
   "metadata": {},
   "source": [
    "## Cross Validation"
   ]
  },
  {
   "cell_type": "code",
   "execution_count": 88,
   "id": "f4bca98a",
   "metadata": {},
   "outputs": [],
   "source": [
    "from sklearn.model_selection import KFold,cross_val_score"
   ]
  },
  {
   "cell_type": "code",
   "execution_count": 89,
   "id": "a3b8cb28",
   "metadata": {},
   "outputs": [],
   "source": [
    "kfold=KFold(n_splits=5,shuffle=False, random_state=None)\n",
    "kfold=KFold(n_splits=5,shuffle=False, random_state=None)\n",
    "results_mean=[]\n",
    "\n",
    "for i in clfs:\n",
    "    csv=cross_val_score(i,X_train,y_train,cv=kfold)\n",
    "    mean_score=csv.mean()\n",
    "    results_mean.append(mean_score)\n",
    "\n",
    "score= pd.DataFrame(results_mean,index=Name)\n",
    "score.columns=['Accuracy']"
   ]
  },
  {
   "cell_type": "code",
   "execution_count": 90,
   "id": "7e712a28",
   "metadata": {},
   "outputs": [
    {
     "data": {
      "text/html": [
       "<div>\n",
       "<style scoped>\n",
       "    .dataframe tbody tr th:only-of-type {\n",
       "        vertical-align: middle;\n",
       "    }\n",
       "\n",
       "    .dataframe tbody tr th {\n",
       "        vertical-align: top;\n",
       "    }\n",
       "\n",
       "    .dataframe thead th {\n",
       "        text-align: right;\n",
       "    }\n",
       "</style>\n",
       "<table border=\"1\" class=\"dataframe\">\n",
       "  <thead>\n",
       "    <tr style=\"text-align: right;\">\n",
       "      <th></th>\n",
       "      <th>Accuracy</th>\n",
       "    </tr>\n",
       "  </thead>\n",
       "  <tbody>\n",
       "    <tr>\n",
       "      <th>LinearDiscriminantAnalysis</th>\n",
       "      <td>0.415172</td>\n",
       "    </tr>\n",
       "    <tr>\n",
       "      <th>Naive Bayes classifier</th>\n",
       "      <td>0.390873</td>\n",
       "    </tr>\n",
       "    <tr>\n",
       "      <th>CAT Boosting</th>\n",
       "      <td>0.379688</td>\n",
       "    </tr>\n",
       "    <tr>\n",
       "      <th>CalibratedClassifierCV</th>\n",
       "      <td>0.366680</td>\n",
       "    </tr>\n",
       "    <tr>\n",
       "      <th>Neural_Network</th>\n",
       "      <td>0.342539</td>\n",
       "    </tr>\n",
       "    <tr>\n",
       "      <th>Histogram Boosting Classifier</th>\n",
       "      <td>0.326383</td>\n",
       "    </tr>\n",
       "    <tr>\n",
       "      <th>Random Forest Classifier</th>\n",
       "      <td>0.324718</td>\n",
       "    </tr>\n",
       "    <tr>\n",
       "      <th>Bagging_classifier</th>\n",
       "      <td>0.323092</td>\n",
       "    </tr>\n",
       "    <tr>\n",
       "      <th>Light GBM</th>\n",
       "      <td>0.321558</td>\n",
       "    </tr>\n",
       "    <tr>\n",
       "      <th>GBBoosting</th>\n",
       "      <td>0.318201</td>\n",
       "    </tr>\n",
       "    <tr>\n",
       "      <th>XGB Boosting</th>\n",
       "      <td>0.315106</td>\n",
       "    </tr>\n",
       "    <tr>\n",
       "      <th>ExtraTreesClassifier</th>\n",
       "      <td>0.310215</td>\n",
       "    </tr>\n",
       "    <tr>\n",
       "      <th>KNN</th>\n",
       "      <td>0.302177</td>\n",
       "    </tr>\n",
       "    <tr>\n",
       "      <th>Decision Tree</th>\n",
       "      <td>0.279491</td>\n",
       "    </tr>\n",
       "    <tr>\n",
       "      <th>DummyClassifier</th>\n",
       "      <td>0.277721</td>\n",
       "    </tr>\n",
       "    <tr>\n",
       "      <th>BernoulliNB</th>\n",
       "      <td>0.272935</td>\n",
       "    </tr>\n",
       "  </tbody>\n",
       "</table>\n",
       "</div>"
      ],
      "text/plain": [
       "                               Accuracy\n",
       "LinearDiscriminantAnalysis     0.415172\n",
       "Naive Bayes classifier         0.390873\n",
       "CAT Boosting                   0.379688\n",
       "CalibratedClassifierCV         0.366680\n",
       "Neural_Network                 0.342539\n",
       "Histogram Boosting Classifier  0.326383\n",
       "Random Forest Classifier       0.324718\n",
       "Bagging_classifier             0.323092\n",
       "Light GBM                      0.321558\n",
       "GBBoosting                     0.318201\n",
       "XGB Boosting                   0.315106\n",
       "ExtraTreesClassifier           0.310215\n",
       "KNN                            0.302177\n",
       "Decision Tree                  0.279491\n",
       "DummyClassifier                0.277721\n",
       "BernoulliNB                    0.272935"
      ]
     },
     "execution_count": 90,
     "metadata": {},
     "output_type": "execute_result"
    }
   ],
   "source": [
    "score.sort_values(by='Accuracy',ascending=False)"
   ]
  },
  {
   "cell_type": "markdown",
   "id": "f78399a8",
   "metadata": {},
   "source": [
    "# Feature Selection"
   ]
  },
  {
   "cell_type": "markdown",
   "id": "ff88f73d",
   "metadata": {},
   "source": [
    "### RVCE (Recursive feature elimination with cross validation)"
   ]
  },
  {
   "cell_type": "code",
   "execution_count": 91,
   "id": "127a36e7",
   "metadata": {},
   "outputs": [
    {
     "data": {
      "text/plain": [
       "(924, 9)"
      ]
     },
     "execution_count": 91,
     "metadata": {},
     "output_type": "execute_result"
    }
   ],
   "source": [
    "X.shape"
   ]
  },
  {
   "cell_type": "code",
   "execution_count": 93,
   "id": "3cc9eff5",
   "metadata": {},
   "outputs": [
    {
     "name": "stdout",
     "output_type": "stream",
     "text": [
      "Optimal number of features : 5\n",
      "Best features : Index(['tenure', 'age', 'income', 'ed', 'employ'], dtype='object')\n"
     ]
    }
   ],
   "source": [
    "from sklearn.feature_selection import SelectFromModel, RFECV\n",
    "model = LinearDiscriminantAnalysis()\n",
    "\n",
    "M37 = RFECV(estimator=model, step=1, cv=kfold, scoring='accuracy', n_jobs=2)\n",
    "\n",
    "M37 = M37.fit(X_train, y_train)\n",
    "\n",
    "print('Optimal number of features :', M37.n_features_)\n",
    "\n",
    "print('Best features :', X.columns[M37.support_])"
   ]
  },
  {
   "cell_type": "code",
   "execution_count": 94,
   "id": "e9f0084d",
   "metadata": {},
   "outputs": [
    {
     "data": {
      "image/png": "[encoded data removed]",
      "text/plain": [
       "<Figure size 720x360 with 1 Axes>"
      ]
     },
     "metadata": {
      "needs_background": "light"
     },
     "output_type": "display_data"
    }
   ],
   "source": [
    "plt.figure(figsize=(10,5))\n",
    "plt.plot(range(1, len(M37.grid_scores_)+1), np.mean(M37.grid_scores_, axis=1), color='purple')\n",
    "plt.xlabel(\"No. of Features\")\n",
    "plt.ylabel(\"Accuracy\")\n",
    "plt.title(\"No. of Features vs Accuracy\")\n",
    "plt.show()"
   ]
  },
  {
   "cell_type": "code",
   "execution_count": 95,
   "id": "49af954c",
   "metadata": {},
   "outputs": [
    {
     "name": "stdout",
     "output_type": "stream",
     "text": [
      "confusion_matrix\n",
      "[[43 10 26 22]\n",
      " [ 7 15 15 12]\n",
      " [22 14 36  5]\n",
      " [16 19 16 27]]\n",
      "\n",
      "\n",
      "classification_report\n",
      "              precision    recall  f1-score   support\n",
      "\n",
      "           0       0.49      0.43      0.46       101\n",
      "           1       0.26      0.31      0.28        49\n",
      "           2       0.39      0.47      0.42        77\n",
      "           3       0.41      0.35      0.38        78\n",
      "\n",
      "    accuracy                           0.40       305\n",
      "   macro avg       0.39      0.39      0.38       305\n",
      "weighted avg       0.41      0.40      0.40       305\n",
      "\n",
      "\n",
      "\n",
      "Accuracy: 39.67213114754099\n",
      "\n",
      "\n",
      "Roc Value: 0.6710605502370713\n"
     ]
    }
   ],
   "source": [
    "P37=M37.predict(X_test)\n",
    "print('confusion_matrix')\n",
    "print(confusion_matrix(y_test,P37))\n",
    "print('\\n')\n",
    "print('classification_report')\n",
    "print(classification_report(y_test,P37))\n",
    "print('\\n')\n",
    "print('Accuracy:',100*accuracy_score(y_test,P37))\n",
    "print('\\n')\n",
    "print('Roc Value:',roc_auc_score(y_test,M37.predict_proba(X_test),multi_class='ovr'))"
   ]
  },
  {
   "cell_type": "code",
   "execution_count": 96,
   "id": "b5da93a0",
   "metadata": {},
   "outputs": [
    {
     "data": {
      "image/png": "[encoded data removed]",
      "text/plain": [
       "<Figure size 432x288 with 1 Axes>"
      ]
     },
     "metadata": {
      "needs_background": "light"
     },
     "output_type": "display_data"
    }
   ],
   "source": [
    "# # Plot number of features VS. cross-validation scores\n",
    "\n",
    "plt.figure()\n",
    "plt.xlabel(\"Number of features selected (RFE)\")\n",
    "plt.ylabel(\"Cross validation score (Accuracy)\")\n",
    "plt.plot(range(1, len(M37.grid_scores_) + 1), M37.grid_scores_)\n",
    "plt.legend(['Fold-1','Fold-2','Fold-3','Fold-4','Fold-5'])\n",
    "plt.show()"
   ]
  },
  {
   "cell_type": "code",
   "execution_count": 97,
   "id": "2d5fc47f",
   "metadata": {},
   "outputs": [
    {
     "data": {
      "text/plain": [
       "Index(['tenure', 'age', 'income', 'ed', 'employ'], dtype='object')"
      ]
     },
     "execution_count": 97,
     "metadata": {},
     "output_type": "execute_result"
    }
   ],
   "source": [
    "best_feature_rvce=X.columns[M37.support_]\n",
    "best_feature_rvce"
   ]
  },
  {
   "cell_type": "markdown",
   "id": "902cfa9c",
   "metadata": {},
   "source": [
    "### RFE (Recursive feature elimination )"
   ]
  },
  {
   "cell_type": "code",
   "execution_count": 98,
   "id": "04205f16",
   "metadata": {},
   "outputs": [],
   "source": [
    "from sklearn.feature_selection import RFE"
   ]
  },
  {
   "cell_type": "code",
   "execution_count": 99,
   "id": "35746b0d",
   "metadata": {},
   "outputs": [
    {
     "name": "stdout",
     "output_type": "stream",
     "text": [
      "No of Features:2\n",
      "Accuracy: 37.704918032786885\n",
      "Roc Value: 0.6768839876662089\n",
      "\n",
      "\n",
      "No of Features:3\n",
      "Accuracy: 37.704918032786885\n",
      "Roc Value: 0.6735792222337265\n",
      "\n",
      "\n",
      "No of Features:4\n",
      "Accuracy: 38.68852459016394\n",
      "Roc Value: 0.6681180294656917\n",
      "\n",
      "\n",
      "No of Features:5\n",
      "Accuracy: 39.67213114754099\n",
      "Roc Value: 0.6710605502370713\n",
      "\n",
      "\n",
      "No of Features:6\n",
      "Accuracy: 39.34426229508197\n",
      "Roc Value: 0.672889212049841\n",
      "\n",
      "\n",
      "No of Features:7\n",
      "Accuracy: 38.68852459016394\n",
      "Roc Value: 0.6725608128330884\n",
      "\n",
      "\n",
      "No of Features:8\n",
      "Accuracy: 38.68852459016394\n",
      "Roc Value: 0.6708354254329794\n",
      "\n",
      "\n",
      "No of Features:9\n",
      "Accuracy: 38.68852459016394\n",
      "Roc Value: 0.6708354254329794\n",
      "\n",
      "\n"
     ]
    }
   ],
   "source": [
    "for i in range (2,len(X.columns)+1):\n",
    "    M38 = RFE(estimator=LinearDiscriminantAnalysis(), n_features_to_select=i, step=1)\n",
    "    M38 = M38.fit(X_train, y_train)\n",
    "    P38=M38.predict(X_test)\n",
    "    print(f'No of Features:{i}')\n",
    "    print('Accuracy:',100*accuracy_score(y_test,P38))\n",
    "    print('Roc Value:',roc_auc_score(y_test,M38.predict_proba(X_test),multi_class='ovr'))\n",
    "    print('\\n')"
   ]
  },
  {
   "cell_type": "code",
   "execution_count": 100,
   "id": "022d1acc",
   "metadata": {},
   "outputs": [
    {
     "name": "stdout",
     "output_type": "stream",
     "text": [
      "No of Features:5\n",
      "Accuracy: 39.67213114754099\n",
      "Roc Value: 0.6710605502370713\n",
      "\n",
      "\n",
      "Chosen best 5 feature by rfe: Index(['tenure', 'age', 'income', 'ed', 'employ'], dtype='object')\n"
     ]
    }
   ],
   "source": [
    "M38 = RFE(estimator=LinearDiscriminantAnalysis(), n_features_to_select=5, step=1)\n",
    "M38 = M38.fit(X_train, y_train)\n",
    "P38=M38.predict(X_test)\n",
    "print(f'No of Features:{5}')\n",
    "print('Accuracy:',100*accuracy_score(y_test,P38))\n",
    "print('Roc Value:',roc_auc_score(y_test,M38.predict_proba(X_test),multi_class='ovr'))\n",
    "print('\\n')\n",
    "print('Chosen best 5 feature by rfe:',X.columns[M38.support_])"
   ]
  },
  {
   "cell_type": "markdown",
   "id": "c9bdae19",
   "metadata": {},
   "source": [
    "### Feature by BOOSTING Technique"
   ]
  },
  {
   "cell_type": "code",
   "execution_count": 106,
   "id": "7ae3c371",
   "metadata": {},
   "outputs": [
    {
     "data": {
      "text/html": [
       "<div>\n",
       "<style scoped>\n",
       "    .dataframe tbody tr th:only-of-type {\n",
       "        vertical-align: middle;\n",
       "    }\n",
       "\n",
       "    .dataframe tbody tr th {\n",
       "        vertical-align: top;\n",
       "    }\n",
       "\n",
       "    .dataframe thead th {\n",
       "        text-align: right;\n",
       "    }\n",
       "</style>\n",
       "<table border=\"1\" class=\"dataframe\">\n",
       "  <thead>\n",
       "    <tr style=\"text-align: right;\">\n",
       "      <th></th>\n",
       "      <th>0</th>\n",
       "    </tr>\n",
       "  </thead>\n",
       "  <tbody>\n",
       "    <tr>\n",
       "      <th>tenure</th>\n",
       "      <td>18.092122</td>\n",
       "    </tr>\n",
       "    <tr>\n",
       "      <th>ed</th>\n",
       "      <td>15.181395</td>\n",
       "    </tr>\n",
       "    <tr>\n",
       "      <th>income</th>\n",
       "      <td>15.031678</td>\n",
       "    </tr>\n",
       "    <tr>\n",
       "      <th>address</th>\n",
       "      <td>13.640050</td>\n",
       "    </tr>\n",
       "    <tr>\n",
       "      <th>age</th>\n",
       "      <td>12.907164</td>\n",
       "    </tr>\n",
       "    <tr>\n",
       "      <th>employ</th>\n",
       "      <td>11.043109</td>\n",
       "    </tr>\n",
       "    <tr>\n",
       "      <th>reside</th>\n",
       "      <td>8.710350</td>\n",
       "    </tr>\n",
       "    <tr>\n",
       "      <th>marital</th>\n",
       "      <td>5.394131</td>\n",
       "    </tr>\n",
       "    <tr>\n",
       "      <th>retire</th>\n",
       "      <td>0.000000</td>\n",
       "    </tr>\n",
       "  </tbody>\n",
       "</table>\n",
       "</div>"
      ],
      "text/plain": [
       "                 0\n",
       "tenure   18.092122\n",
       "ed       15.181395\n",
       "income   15.031678\n",
       "address  13.640050\n",
       "age      12.907164\n",
       "employ   11.043109\n",
       "reside    8.710350\n",
       "marital   5.394131\n",
       "retire    0.000000"
      ]
     },
     "execution_count": 106,
     "metadata": {},
     "output_type": "execute_result"
    }
   ],
   "source": [
    "feature_imp = pd.DataFrame(M9.feature_importances_ ,index=X.columns[0:40])\n",
    "feature_imp.sort_values(by=0,ascending=False)"
   ]
  },
  {
   "cell_type": "code",
   "execution_count": 107,
   "id": "9587fe5e",
   "metadata": {},
   "outputs": [
    {
     "data": {
      "text/plain": [
       "<AxesSubplot:>"
      ]
     },
     "execution_count": 107,
     "metadata": {},
     "output_type": "execute_result"
    },
    {
     "data": {
      "image/png": "[encoded data removed]",
      "text/plain": [
       "<Figure size 432x288 with 1 Axes>"
      ]
     },
     "metadata": {
      "needs_background": "light"
     },
     "output_type": "display_data"
    }
   ],
   "source": [
    "feature_imp.sort_values(by=0,ascending=True).plot(kind='barh')"
   ]
  },
  {
   "cell_type": "code",
   "execution_count": 110,
   "id": "abe6911a",
   "metadata": {},
   "outputs": [
    {
     "data": {
      "text/html": [
       "<div>\n",
       "<style scoped>\n",
       "    .dataframe tbody tr th:only-of-type {\n",
       "        vertical-align: middle;\n",
       "    }\n",
       "\n",
       "    .dataframe tbody tr th {\n",
       "        vertical-align: top;\n",
       "    }\n",
       "\n",
       "    .dataframe thead th {\n",
       "        text-align: right;\n",
       "    }\n",
       "</style>\n",
       "<table border=\"1\" class=\"dataframe\">\n",
       "  <thead>\n",
       "    <tr style=\"text-align: right;\">\n",
       "      <th></th>\n",
       "      <th>0</th>\n",
       "    </tr>\n",
       "  </thead>\n",
       "  <tbody>\n",
       "    <tr>\n",
       "      <th>tenure</th>\n",
       "      <td>18.092122</td>\n",
       "    </tr>\n",
       "    <tr>\n",
       "      <th>income</th>\n",
       "      <td>15.031678</td>\n",
       "    </tr>\n",
       "    <tr>\n",
       "      <th>address</th>\n",
       "      <td>13.640050</td>\n",
       "    </tr>\n",
       "    <tr>\n",
       "      <th>age</th>\n",
       "      <td>12.907164</td>\n",
       "    </tr>\n",
       "    <tr>\n",
       "      <th>marital</th>\n",
       "      <td>5.394131</td>\n",
       "    </tr>\n",
       "  </tbody>\n",
       "</table>\n",
       "</div>"
      ],
      "text/plain": [
       "                 0\n",
       "tenure   18.092122\n",
       "income   15.031678\n",
       "address  13.640050\n",
       "age      12.907164\n",
       "marital   5.394131"
      ]
     },
     "execution_count": 110,
     "metadata": {},
     "output_type": "execute_result"
    }
   ],
   "source": [
    "feature_imp = pd.DataFrame(M9.feature_importances_ ,index=X.columns[0:40])[:5]\n",
    "feature_imp.sort_values(by=0,ascending=False)"
   ]
  },
  {
   "cell_type": "code",
   "execution_count": 111,
   "id": "91deb9ba",
   "metadata": {},
   "outputs": [
    {
     "data": {
      "text/plain": [
       "<AxesSubplot:>"
      ]
     },
     "execution_count": 111,
     "metadata": {},
     "output_type": "execute_result"
    },
    {
     "data": {
      "image/png": "[encoded data removed]",
      "text/plain": [
       "<Figure size 432x288 with 1 Axes>"
      ]
     },
     "metadata": {
      "needs_background": "light"
     },
     "output_type": "display_data"
    }
   ],
   "source": [
    "feature_imp.sort_values(by=0,ascending=True).plot(kind='barh')"
   ]
  },
  {
   "cell_type": "markdown",
   "id": "bf0979d3",
   "metadata": {},
   "source": [
    "###  Univariate feature selection "
   ]
  },
  {
   "cell_type": "markdown",
   "id": "be2464e7",
   "metadata": {},
   "source": [
    "**In univariate feature selection, we will use SelectKBest that removes all but the k highest scoring features. http://scikit-learn.org/stable/modules/generated/sklearn.feature_selection.SelectKBest.html#sklearn.feature_selection.SelectKBest**"
   ]
  },
  {
   "cell_type": "code",
   "execution_count": 113,
   "id": "d4f437e1",
   "metadata": {},
   "outputs": [],
   "source": [
    "from sklearn.feature_selection import SelectKBest\n",
    "from sklearn.feature_selection import chi2"
   ]
  },
  {
   "cell_type": "code",
   "execution_count": 115,
   "id": "db25242b",
   "metadata": {},
   "outputs": [
    {
     "name": "stdout",
     "output_type": "stream",
     "text": [
      "No of Features:2\n",
      "Accuracy: 39.67213114754099\n",
      "Roc Value: 0.6710605502370713\n",
      "\n",
      "\n",
      "No of Features:3\n",
      "Accuracy: 39.67213114754099\n",
      "Roc Value: 0.6710605502370713\n",
      "\n",
      "\n",
      "No of Features:4\n",
      "Accuracy: 39.67213114754099\n",
      "Roc Value: 0.6710605502370713\n",
      "\n",
      "\n",
      "No of Features:5\n",
      "Accuracy: 39.67213114754099\n",
      "Roc Value: 0.6710605502370713\n",
      "\n",
      "\n",
      "No of Features:6\n",
      "Accuracy: 39.67213114754099\n",
      "Roc Value: 0.6710605502370713\n",
      "\n",
      "\n",
      "No of Features:7\n",
      "Accuracy: 39.67213114754099\n",
      "Roc Value: 0.6710605502370713\n",
      "\n",
      "\n",
      "No of Features:8\n",
      "Accuracy: 39.67213114754099\n",
      "Roc Value: 0.6710605502370713\n",
      "\n",
      "\n",
      "No of Features:9\n",
      "Accuracy: 39.67213114754099\n",
      "Roc Value: 0.6710605502370713\n",
      "\n",
      "\n"
     ]
    }
   ],
   "source": [
    "for i in range (2,len(X.columns)+1):\n",
    "    select_feature = SelectKBest(chi2, k=i).fit(X_train, y_train)\n",
    "    X_train_2 = select_feature.transform(X_train)\n",
    "    X_test_2 = select_feature.transform(X_test)\n",
    "    M39 =LinearDiscriminantAnalysis()\n",
    "    M39.fit(X_train_2,y_train)\n",
    "    P39=M39.predict(X_test_2)\n",
    "    print(f'No of Features:{i}')\n",
    "    print('Accuracy:',100*accuracy_score(y_test,P38))\n",
    "    print('Roc Value:',roc_auc_score(y_test,M38.predict_proba(X_test),multi_class='ovr'))\n",
    "    print('\\n')"
   ]
  },
  {
   "cell_type": "code",
   "execution_count": 116,
   "id": "4a343c04",
   "metadata": {},
   "outputs": [
    {
     "name": "stdout",
     "output_type": "stream",
     "text": [
      "Score list: [12.10232533  1.28528431  2.48895734  0.34709038  2.91904907 22.64746927\n",
      "  5.19507812         nan  0.81713636]\n",
      "Feature list: Index(['tenure', 'age', 'income', 'marital', 'address', 'ed', 'employ',\n",
      "       'retire', 'reside'],\n",
      "      dtype='object')\n"
     ]
    }
   ],
   "source": [
    "print('Score list:', select_feature.scores_)\n",
    "print('Feature list:', X.columns)"
   ]
  },
  {
   "cell_type": "markdown",
   "id": "b46357ca",
   "metadata": {},
   "source": [
    "### Feature Extraction with PCA"
   ]
  },
  {
   "cell_type": "code",
   "execution_count": 121,
   "id": "10a881d8",
   "metadata": {},
   "outputs": [
    {
     "data": {
      "text/plain": [
       "Text(0.5, 0.85, '95% cut-off threshold')"
      ]
     },
     "execution_count": 121,
     "metadata": {},
     "output_type": "execute_result"
    },
    {
     "data": {
      "image/png": "[encoded data removed]",
      "text/plain": [
       "<Figure size 1008x936 with 1 Axes>"
      ]
     },
     "metadata": {},
     "output_type": "display_data"
    }
   ],
   "source": [
    "from sklearn.decomposition import PCA\n",
    "pca = PCA()\n",
    "pca.fit(X_train)\n",
    "\n",
    "plt.figure(1, figsize=(14, 13))\n",
    "plt.style.use(\"ggplot\") \n",
    "plt.plot(np.cumsum(pca.explained_variance_ratio_), marker='o')\n",
    "plt.xlabel(\"n_components\")\n",
    "plt.ylabel(\"explained_variance_ratio_\")\n",
    "plt.title(\"Scree Plot\")\n",
    "plt.axhline(y=0.95, color='b', linestyle='-')\n",
    "plt.text(0.5, 0.85, '95% cut-off threshold', color = 'red', fontsize=16)"
   ]
  },
  {
   "cell_type": "code",
   "execution_count": 124,
   "id": "0f985ccb",
   "metadata": {},
   "outputs": [],
   "source": [
    "pca = PCA(n_components = 5)\n",
    "  \n",
    "X_train_pca = pca.fit_transform(X_train)\n",
    "X_test_pca = pca.transform(X_test)"
   ]
  },
  {
   "cell_type": "code",
   "execution_count": 128,
   "id": "5483d24d",
   "metadata": {},
   "outputs": [
    {
     "name": "stdout",
     "output_type": "stream",
     "text": [
      "Accuracy: 40.32786885245901\n"
     ]
    }
   ],
   "source": [
    "M40=LinearDiscriminantAnalysis()\n",
    "M40.fit(X_train_pca,y_train)\n",
    "P40=M40.predict(X_test_pca)\n",
    "print('Accuracy:',100*accuracy_score(y_test,P40))"
   ]
  },
  {
   "cell_type": "markdown",
   "id": "f9a9b69c",
   "metadata": {},
   "source": [
    "## AutoML"
   ]
  },
  {
   "cell_type": "code",
   "execution_count": 150,
   "id": "e2039479",
   "metadata": {},
   "outputs": [],
   "source": [
    "# import PipelineProfiler\n",
    "# from autosklearn.classification import AutoSklearnClassifier"
   ]
  },
  {
   "cell_type": "code",
   "execution_count": 179,
   "id": "5b3142f1",
   "metadata": {},
   "outputs": [],
   "source": [
    "# M41 = AutoSklearnClassifier(time_left_for_this_task=2*60, per_run_time_limit=30, n_jobs=8)\n",
    "# # perform the search\n",
    "# M41.fit(X_train, y_train)\n",
    "# # summarize\n",
    "# print(M41.sprint_statistics())\n",
    "# # evaluate best model\n",
    "# P41 = M41.predict(X_test)\n",
    "# print('Accuracy:',100*accuracy_score(y_test,P41))"
   ]
  },
  {
   "cell_type": "code",
   "execution_count": 180,
   "id": "02a883a1",
   "metadata": {},
   "outputs": [],
   "source": [
    "# profiler_data = PipelineProfiler.import_autosklearn(M41)\n",
    "# PipelineProfiler.plot_pipeline_matrix(profiler_data)"
   ]
  },
  {
   "cell_type": "markdown",
   "id": "43000a6e",
   "metadata": {},
   "source": [
    "## Hyperparameter Tuning"
   ]
  },
  {
   "cell_type": "code",
   "execution_count": 208,
   "id": "3eada89e",
   "metadata": {},
   "outputs": [],
   "source": [
    "from sklearn.model_selection import GridSearchCV\n",
    "from sklearn.model_selection import RepeatedStratifiedKFold"
   ]
  },
  {
   "cell_type": "code",
   "execution_count": 209,
   "id": "e5edf5f8",
   "metadata": {},
   "outputs": [],
   "source": [
    "model = LinearDiscriminantAnalysis()"
   ]
  },
  {
   "cell_type": "markdown",
   "id": "6d854f1e",
   "metadata": {},
   "source": [
    "#### Tuning Solver"
   ]
  },
  {
   "cell_type": "code",
   "execution_count": 210,
   "id": "e83aac5f",
   "metadata": {},
   "outputs": [
    {
     "data": {
      "text/plain": [
       "{'solver': ['svd', 'lsqr', 'eigen']}"
      ]
     },
     "execution_count": 210,
     "metadata": {},
     "output_type": "execute_result"
    }
   ],
   "source": [
    "cv=RepeatedStratifiedKFold(n_splits=10, n_repeats=3, random_state=1)\n",
    "grid = {}\n",
    "grid['solver'] = ['svd', 'lsqr', 'eigen']\n",
    "search = GridSearchCV(model, grid, scoring='accuracy', cv=cv, n_jobs=-1)\n",
    "grid"
   ]
  },
  {
   "cell_type": "code",
   "execution_count": 211,
   "id": "2c58180f",
   "metadata": {},
   "outputs": [],
   "source": [
    "results = search.fit(X_train, y_train)"
   ]
  },
  {
   "cell_type": "code",
   "execution_count": 212,
   "id": "2ce40d91",
   "metadata": {},
   "outputs": [
    {
     "name": "stdout",
     "output_type": "stream",
     "text": [
      "Mean Accuracy: 0.421\n",
      "Config: {'solver': 'svd'}\n"
     ]
    }
   ],
   "source": [
    "print('Mean Accuracy: %.3f' % results.best_score_)\n",
    "print('Config: %s' % results.best_params_)"
   ]
  },
  {
   "cell_type": "markdown",
   "id": "9e440f7f",
   "metadata": {},
   "source": [
    "#### Tuning shrinkage"
   ]
  },
  {
   "cell_type": "code",
   "execution_count": 213,
   "id": "a5372bf1",
   "metadata": {},
   "outputs": [],
   "source": [
    "model = LinearDiscriminantAnalysis(solver='svd')"
   ]
  },
  {
   "cell_type": "code",
   "execution_count": 216,
   "id": "0ee4118c",
   "metadata": {},
   "outputs": [
    {
     "name": "stdout",
     "output_type": "stream",
     "text": [
      "Accuracy: 40.32786885245901\n"
     ]
    }
   ],
   "source": [
    "model.fit(X_train_pca,y_train)\n",
    "P=model.predict(X_test_pca)\n",
    "print('Accuracy:',100*accuracy_score(y_test,P))"
   ]
  },
  {
   "cell_type": "code",
   "execution_count": 218,
   "id": "9555228d",
   "metadata": {},
   "outputs": [],
   "source": [
    "import pickle\n",
    "with open('model','wb') as file: #'model' --is file name     'wb'----write bytes\n",
    "    pickle.dump(model,file)"
   ]
  }
 ],
 "metadata": {
  "kernelspec": {
   "display_name": "Python 3 (ipykernel)",
   "language": "python",
   "name": "python3"
  },
  "language_info": {
   "codemirror_mode": {
    "name": "ipython",
    "version": 3
   },
   "file_extension": ".py",
   "mimetype": "text/x-python",
   "name": "python",
   "nbconvert_exporter": "python",
   "pygments_lexer": "ipython3",
   "version": "3.9.12"
  }
 },
 "nbformat": 4,
 "nbformat_minor": 5
}
